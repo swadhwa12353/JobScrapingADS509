{
 "cells": [
  {
   "cell_type": "code",
   "execution_count": 2,
   "metadata": {
    "colab": {
     "base_uri": "https://localhost:8080/"
    },
    "id": "lvCB2ybtuso6",
    "outputId": "28f78b68-2ecc-4c28-f760-63ef2d86a5d7"
   },
   "outputs": [
    {
     "name": "stderr",
     "output_type": "stream",
     "text": [
      "/Users/sahilwadhwa/anaconda3/lib/python3.11/site-packages/pandas/core/arrays/masked.py:61: UserWarning: Pandas requires version '1.3.6' or newer of 'bottleneck' (version '1.3.5' currently installed).\n",
      "  from pandas.core import (\n",
      "[nltk_data] Downloading package stopwords to\n",
      "[nltk_data]     /Users/sahilwadhwa/nltk_data...\n",
      "[nltk_data]   Package stopwords is already up-to-date!\n"
     ]
    }
   ],
   "source": [
    "#Libraries needed\n",
    "import requests\n",
    "import pandas as pd\n",
    "import re\n",
    "import nltk\n",
    "from nltk.corpus import stopwords\n",
    "nltk.download('stopwords')\n",
    "\n",
    "stop_words = set(stopwords.words('english'))"
   ]
  },
  {
   "cell_type": "code",
   "execution_count": 3,
   "metadata": {
    "colab": {
     "base_uri": "https://localhost:8080/"
    },
    "id": "govlwCriGjxL",
    "outputId": "9d2a5815-ae58-482e-89cd-2c7cf6b17d54"
   },
   "outputs": [
    {
     "name": "stderr",
     "output_type": "stream",
     "text": [
      "[nltk_data] Downloading package punkt to\n",
      "[nltk_data]     /Users/sahilwadhwa/nltk_data...\n",
      "[nltk_data]   Package punkt is already up-to-date!\n",
      "[nltk_data] Downloading package punkt_tab to\n",
      "[nltk_data]     /Users/sahilwadhwa/nltk_data...\n",
      "[nltk_data]   Package punkt_tab is already up-to-date!\n"
     ]
    },
    {
     "data": {
      "text/plain": [
       "True"
      ]
     },
     "execution_count": 3,
     "metadata": {},
     "output_type": "execute_result"
    }
   ],
   "source": [
    "#Libraries needed part 2\n",
    "from collections import Counter\n",
    "from nltk.tokenize import word_tokenize\n",
    "nltk.download('punkt')\n",
    "nltk.download('punkt_tab')"
   ]
  },
  {
   "cell_type": "code",
   "execution_count": 6,
   "metadata": {},
   "outputs": [],
   "source": [
    "#Libraries need part 3\n",
    "from sklearn.model_selection import train_test_split\n",
    "from sklearn.feature_extraction.text import TfidfVectorizer\n",
    "from sklearn.linear_model import LogisticRegression\n",
    "from sklearn.metrics import classification_report, accuracy_score\n",
    "from sklearn.decomposition import LatentDirichletAllocation\n",
    "from sklearn.preprocessing import LabelEncoder\n",
    "from sklearn.metrics.cluster import adjusted_rand_score"
   ]
  },
  {
   "cell_type": "code",
   "execution_count": 7,
   "metadata": {},
   "outputs": [
    {
     "data": {
      "text/html": [
       "<div>\n",
       "<style scoped>\n",
       "    .dataframe tbody tr th:only-of-type {\n",
       "        vertical-align: middle;\n",
       "    }\n",
       "\n",
       "    .dataframe tbody tr th {\n",
       "        vertical-align: top;\n",
       "    }\n",
       "\n",
       "    .dataframe thead th {\n",
       "        text-align: right;\n",
       "    }\n",
       "</style>\n",
       "<table border=\"1\" class=\"dataframe\">\n",
       "  <thead>\n",
       "    <tr style=\"text-align: right;\">\n",
       "      <th></th>\n",
       "      <th>title</th>\n",
       "      <th>company</th>\n",
       "      <th>location</th>\n",
       "      <th>description</th>\n",
       "      <th>role</th>\n",
       "      <th>clean_description</th>\n",
       "      <th>tokens</th>\n",
       "    </tr>\n",
       "  </thead>\n",
       "  <tbody>\n",
       "    <tr>\n",
       "      <th>0</th>\n",
       "      <td>Product Software Engineer</td>\n",
       "      <td>Qualcomm</td>\n",
       "      <td>San Diego, CA</td>\n",
       "      <td>Company:\\nQualcomm Innovation Center, Inc.\\n\\n...</td>\n",
       "      <td>software engineer</td>\n",
       "      <td>company qualcomm innovation center inc job are...</td>\n",
       "      <td>['company', 'qualcomm', 'innovation', 'center'...</td>\n",
       "    </tr>\n",
       "    <tr>\n",
       "      <th>1</th>\n",
       "      <td>Software Engineer–DevSecOps (Virtual)</td>\n",
       "      <td>Boeing</td>\n",
       "      <td>Long Beach, CA (+2 others)</td>\n",
       "      <td>Job Description\\n\\nAt Boeing, we innovate and ...</td>\n",
       "      <td>software engineer</td>\n",
       "      <td>job description boeing innovate collaborate ma...</td>\n",
       "      <td>['job', 'description', 'boeing', 'innovate', '...</td>\n",
       "    </tr>\n",
       "    <tr>\n",
       "      <th>2</th>\n",
       "      <td>Software Engineer I - iOS</td>\n",
       "      <td>Lensa</td>\n",
       "      <td>Irvine, CA</td>\n",
       "      <td>Lensa is a U.S. career site that helps job see...</td>\n",
       "      <td>software engineer</td>\n",
       "      <td>lensa us career site helps job seekers discove...</td>\n",
       "      <td>['lensa', 'us', 'career', 'site', 'helps', 'jo...</td>\n",
       "    </tr>\n",
       "    <tr>\n",
       "      <th>3</th>\n",
       "      <td>DevSecOps Software Engineers (Associate/Experi...</td>\n",
       "      <td>Boeing</td>\n",
       "      <td>El Segundo, CA (+1 other)</td>\n",
       "      <td>Job Description\\n\\nAt Boeing, we innovate and ...</td>\n",
       "      <td>software engineer</td>\n",
       "      <td>job description boeing innovate collaborate ma...</td>\n",
       "      <td>['job', 'description', 'boeing', 'innovate', '...</td>\n",
       "    </tr>\n",
       "    <tr>\n",
       "      <th>4</th>\n",
       "      <td>Lead, Software Engineer</td>\n",
       "      <td>Allvue Systems</td>\n",
       "      <td>San Diego, CA</td>\n",
       "      <td>About Allvue\\n\\nWe are Allvue Systems, the lea...</td>\n",
       "      <td>software engineer</td>\n",
       "      <td>allvue allvue systems leading provider softwar...</td>\n",
       "      <td>['allvue', 'allvue', 'systems', 'leading', 'pr...</td>\n",
       "    </tr>\n",
       "  </tbody>\n",
       "</table>\n",
       "</div>"
      ],
      "text/plain": [
       "                                               title         company  \\\n",
       "0                          Product Software Engineer        Qualcomm   \n",
       "1              Software Engineer–DevSecOps (Virtual)          Boeing   \n",
       "2                          Software Engineer I - iOS           Lensa   \n",
       "3  DevSecOps Software Engineers (Associate/Experi...          Boeing   \n",
       "4                            Lead, Software Engineer  Allvue Systems   \n",
       "\n",
       "                     location  \\\n",
       "0               San Diego, CA   \n",
       "1  Long Beach, CA (+2 others)   \n",
       "2                  Irvine, CA   \n",
       "3   El Segundo, CA (+1 other)   \n",
       "4               San Diego, CA   \n",
       "\n",
       "                                         description               role  \\\n",
       "0  Company:\\nQualcomm Innovation Center, Inc.\\n\\n...  software engineer   \n",
       "1  Job Description\\n\\nAt Boeing, we innovate and ...  software engineer   \n",
       "2  Lensa is a U.S. career site that helps job see...  software engineer   \n",
       "3  Job Description\\n\\nAt Boeing, we innovate and ...  software engineer   \n",
       "4  About Allvue\\n\\nWe are Allvue Systems, the lea...  software engineer   \n",
       "\n",
       "                                   clean_description  \\\n",
       "0  company qualcomm innovation center inc job are...   \n",
       "1  job description boeing innovate collaborate ma...   \n",
       "2  lensa us career site helps job seekers discove...   \n",
       "3  job description boeing innovate collaborate ma...   \n",
       "4  allvue allvue systems leading provider softwar...   \n",
       "\n",
       "                                              tokens  \n",
       "0  ['company', 'qualcomm', 'innovation', 'center'...  \n",
       "1  ['job', 'description', 'boeing', 'innovate', '...  \n",
       "2  ['lensa', 'us', 'career', 'site', 'helps', 'jo...  \n",
       "3  ['job', 'description', 'boeing', 'innovate', '...  \n",
       "4  ['allvue', 'allvue', 'systems', 'leading', 'pr...  "
      ]
     },
     "execution_count": 7,
     "metadata": {},
     "output_type": "execute_result"
    }
   ],
   "source": [
    "df_combined = pd.read_csv('combined_job_data.csv')\n",
    "df_combined.head()"
   ]
  },
  {
   "cell_type": "code",
   "execution_count": 9,
   "metadata": {},
   "outputs": [
    {
     "data": {
      "text/plain": [
       "role\n",
       "accountant           99\n",
       "software engineer    95\n",
       "data analyst         91\n",
       "Name: count, dtype: int64"
      ]
     },
     "execution_count": 9,
     "metadata": {},
     "output_type": "execute_result"
    }
   ],
   "source": [
    "df_combined['role'].value_counts()"
   ]
  },
  {
   "cell_type": "code",
   "execution_count": 11,
   "metadata": {},
   "outputs": [],
   "source": [
    "vectorizer = TfidfVectorizer(max_features = 3000)\n",
    "X = vectorizer.fit_transform(df_combined['clean_description'])\n",
    "y = df_combined['role']"
   ]
  },
  {
   "cell_type": "markdown",
   "metadata": {},
   "source": [
    "## Classification Model and Accuracy"
   ]
  },
  {
   "cell_type": "code",
   "execution_count": 17,
   "metadata": {},
   "outputs": [
    {
     "name": "stdout",
     "output_type": "stream",
     "text": [
      "Accuracy: 0.9649122807017544\n",
      "\n",
      "Classification Report:\n",
      "                    precision    recall  f1-score   support\n",
      "\n",
      "       accountant       1.00      0.90      0.95        20\n",
      "     data analyst       1.00      1.00      1.00        18\n",
      "software engineer       0.90      1.00      0.95        19\n",
      "\n",
      "         accuracy                           0.96        57\n",
      "        macro avg       0.97      0.97      0.97        57\n",
      "     weighted avg       0.97      0.96      0.96        57\n",
      "\n"
     ]
    }
   ],
   "source": [
    "X_train, X_test, y_train, y_test = train_test_split(X, y, test_size = 0.2, random_state = 42, stratify = y)\n",
    "\n",
    "lr = LogisticRegression(max_iter = 1000)\n",
    "lr.fit(X_train, y_train)\n",
    "\n",
    "y_pred = lr.predict(X_test)\n",
    "\n",
    "print(\"Accuracy:\", accuracy_score(y_test, y_pred))\n",
    "print(\"\\nClassification Report:\\n\", classification_report(y_test, y_pred))"
   ]
  },
  {
   "cell_type": "markdown",
   "metadata": {},
   "source": [
    "## Topic Model (LDA)"
   ]
  },
  {
   "cell_type": "code",
   "execution_count": 19,
   "metadata": {},
   "outputs": [
    {
     "name": "stdout",
     "output_type": "stream",
     "text": [
      "\n",
      "Adjusted Rand Index (topics vs roles): 0.10695655533075178\n"
     ]
    }
   ],
   "source": [
    "lda = LatentDirichletAllocation(n_components = 3, random_state = 42)\n",
    "fitted = lda.fit_transform(X)\n",
    "\n",
    "predicted = fitted.argmax(axis = 1)\n",
    "\n",
    "label_encoder = LabelEncoder()\n",
    "labels = label_encoder.fit_transform(y)\n",
    "\n",
    "rand_score = adjusted_rand_score(labels, predicted)\n",
    "print(\"\\nAdjusted Rand Index (topics vs roles):\", rand_score)"
   ]
  },
  {
   "cell_type": "code",
   "execution_count": 20,
   "metadata": {},
   "outputs": [
    {
     "name": "stdout",
     "output_type": "stream",
     "text": [
      "\n",
      "Topic 1: data, accounting, financial, experience, accountant, work, business, skills, analysis, reporting\n",
      "\n",
      "Topic 2: original, posting, see, job, skyworks, targeting, bay, authorities, interesting, enables\n",
      "\n",
      "Topic 3: software, engineering, development, experience, design, embedded, engineer, systems, space, engineers\n"
     ]
    }
   ],
   "source": [
    "#Top 10 words per Topic\n",
    "feature_names = vectorizer.get_feature_names_out()\n",
    "for idx, topic in enumerate(lda.components_):\n",
    "    top_words = [feature_names[i] for i in topic.argsort()[:-11:-1]]\n",
    "    print(f\"\\nTopic {idx + 1}: {', '.join(top_words)}\")"
   ]
  }
 ],
 "metadata": {
  "colab": {
   "provenance": []
  },
  "kernelspec": {
   "display_name": "Python 3 (ipykernel)",
   "language": "python",
   "name": "python3"
  },
  "language_info": {
   "codemirror_mode": {
    "name": "ipython",
    "version": 3
   },
   "file_extension": ".py",
   "mimetype": "text/x-python",
   "name": "python",
   "nbconvert_exporter": "python",
   "pygments_lexer": "ipython3",
   "version": "3.11.5"
  }
 },
 "nbformat": 4,
 "nbformat_minor": 1
}
